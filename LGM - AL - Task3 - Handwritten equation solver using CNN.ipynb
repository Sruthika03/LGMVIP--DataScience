{
 "cells": [
  {
   "cell_type": "markdown",
   "id": "14819e5c",
   "metadata": {},
   "source": [
    "# LetsGrowMore - Advanced Level Task3 "
   ]
  },
  {
   "cell_type": "markdown",
   "id": "3a696378",
   "metadata": {},
   "source": [
    "### Handwritten equation solver using CNN"
   ]
  },
  {
   "cell_type": "markdown",
   "id": "0541bfc4",
   "metadata": {},
   "source": [
    "### Batch - May 2022 - Data Science Intern"
   ]
  },
  {
   "cell_type": "markdown",
   "id": "f4c87f62",
   "metadata": {},
   "source": [
    "#### Task Description"
   ]
  },
  {
   "cell_type": "markdown",
   "id": "544f5674",
   "metadata": {},
   "source": [
    "Mathematical equation solver using character and symbol recognition using image processing and CNN. "
   ]
  },
  {
   "cell_type": "markdown",
   "id": "03d532fc",
   "metadata": {},
   "source": [
    "Dataset Link Provided - https://www.kaggle.com/xainano/handwrittenmathsymbols "
   ]
  },
  {
   "cell_type": "markdown",
   "id": "88408baa",
   "metadata": {},
   "source": [
    "Task Reference Link Provided - https://vipul-gupta73921.medium.com/handwritten-equation-solver-using-convolutional-neural-network-a44acc0bd9f8"
   ]
  },
  {
   "cell_type": "markdown",
   "id": "422e7f44",
   "metadata": {},
   "source": [
    "### 1. Importing The Required Libraries"
   ]
  },
  {
   "cell_type": "code",
   "execution_count": 1,
   "id": "f5b55017",
   "metadata": {},
   "outputs": [],
   "source": [
    "import numpy as np\n",
    "import cv2\n",
    "from PIL import Image\n",
    "from matplotlib import pyplot as plt\n",
    "%matplotlib inline\n",
    "import os\n",
    "from os import listdir\n",
    "from os.path import isfile, join\n",
    "import pandas as pd"
   ]
  },
  {
   "cell_type": "code",
   "execution_count": 2,
   "id": "368dbb46",
   "metadata": {},
   "outputs": [],
   "source": [
    "def load_images_from_folder(folder):\n",
    "    train_data=[]\n",
    "    for filename in os.listdir(folder):\n",
    "        img = cv2.imread(os.path.join(folder,filename),cv2.IMREAD_GRAYSCALE)\n",
    "        img=~img\n",
    "        if img is not None:\n",
    "            ret,thresh=cv2.threshold(img,127,255,cv2.THRESH_BINARY)\n",
    "\n",
    "            ctrs,ret=cv2.findContours(thresh,cv2.RETR_EXTERNAL,cv2.CHAIN_APPROX_NONE)\n",
    "            cnt=sorted(ctrs, key=lambda ctr: cv2.boundingRect(ctr)[0])\n",
    "            w=int(28)\n",
    "            h=int(28)\n",
    "            maxi=0\n",
    "            for c in cnt:\n",
    "                x,y,w,h=cv2.boundingRect(c)\n",
    "                maxi=max(w*h,maxi)\n",
    "                if maxi==w*h:\n",
    "                    x_max=x\n",
    "                    y_max=y\n",
    "                    w_max=w\n",
    "                    h_max=h\n",
    "            im_crop= thresh[y_max:y_max+h_max+10, x_max:x_max+w_max+10]\n",
    "            im_resize = cv2.resize(im_crop,(28,28))\n",
    "            im_resize=np.reshape(im_resize,(784,1))\n",
    "            train_data.append(im_resize)\n",
    "    return train_data"
   ]
  },
  {
   "cell_type": "code",
   "execution_count": 3,
   "id": "e25eba31",
   "metadata": {},
   "outputs": [],
   "source": [
    "data=[]"
   ]
  },
  {
   "cell_type": "code",
   "execution_count": 4,
   "id": "e8256a91",
   "metadata": {},
   "outputs": [
    {
     "name": "stdout",
     "output_type": "stream",
     "text": [
      "655\n"
     ]
    }
   ],
   "source": [
    "# Assign '-' = 10\n",
    "data=load_images_from_folder('C://Users//hp//Downloads//LGM_MAL_Task4//dataset//-//')\n",
    "len(data)\n",
    "for i in range(0,len(data)):\n",
    "    data[i]=np.append(data[i],['10'])\n",
    "    \n",
    "print(len(data))"
   ]
  },
  {
   "cell_type": "code",
   "execution_count": 5,
   "id": "4904c5b7",
   "metadata": {},
   "outputs": [
    {
     "name": "stdout",
     "output_type": "stream",
     "text": [
      "1251\n"
     ]
    }
   ],
   "source": [
    "# Assign + = 11\n",
    "data11=load_images_from_folder('C://Users//hp//Downloads//LGM_MAL_Task4//dataset//+//')\n",
    "\n",
    "for i in range(0,len(data11)):\n",
    "    data11[i]=np.append(data11[i],['11'])\n",
    "data=np.concatenate((data,data11))\n",
    "print(len(data))"
   ]
  },
  {
   "cell_type": "code",
   "execution_count": 6,
   "id": "a9fb2844",
   "metadata": {},
   "outputs": [
    {
     "name": "stdout",
     "output_type": "stream",
     "text": [
      "1846\n"
     ]
    }
   ],
   "source": [
    "data0=load_images_from_folder('C://Users//hp//Downloads//LGM_MAL_Task4//dataset//0//')\n",
    "\n",
    "for i in range(0,len(data0)):\n",
    "    data0[i]=np.append(data0[i],['0'])\n",
    "data=np.concatenate((data,data0))\n",
    "print(len(data))"
   ]
  },
  {
   "cell_type": "code",
   "execution_count": 7,
   "id": "b8fde20c",
   "metadata": {},
   "outputs": [
    {
     "name": "stdout",
     "output_type": "stream",
     "text": [
      "2408\n"
     ]
    }
   ],
   "source": [
    "data1=load_images_from_folder('C://Users//hp//Downloads//LGM_MAL_Task4//dataset//1//')\n",
    "\n",
    "for i in range(0,len(data1)):\n",
    "    data1[i]=np.append(data1[i],['1'])\n",
    "data=np.concatenate((data,data1))\n",
    "print(len(data))"
   ]
  },
  {
   "cell_type": "code",
   "execution_count": 8,
   "id": "ecfb84cb",
   "metadata": {},
   "outputs": [
    {
     "name": "stdout",
     "output_type": "stream",
     "text": [
      "2841\n"
     ]
    }
   ],
   "source": [
    "data2=load_images_from_folder('C://Users//hp//Downloads//LGM_MAL_Task4//dataset//2//')\n",
    "\n",
    "for i in range(0,len(data2)):\n",
    "    data2[i]=np.append(data2[i],['2'])\n",
    "data=np.concatenate((data,data2))\n",
    "print(len(data))"
   ]
  },
  {
   "cell_type": "code",
   "execution_count": 9,
   "id": "bc4cc492",
   "metadata": {},
   "outputs": [
    {
     "name": "stdout",
     "output_type": "stream",
     "text": [
      "3382\n"
     ]
    }
   ],
   "source": [
    "data3=load_images_from_folder('C://Users//hp//Downloads//LGM_MAL_Task4//dataset//3//')\n",
    "\n",
    "for i in range(0,len(data3)):\n",
    "    data3[i]=np.append(data3[i],['3'])\n",
    "data=np.concatenate((data,data3))\n",
    "print(len(data))"
   ]
  },
  {
   "cell_type": "code",
   "execution_count": 10,
   "id": "341cce2f",
   "metadata": {},
   "outputs": [
    {
     "name": "stdout",
     "output_type": "stream",
     "text": [
      "3908\n"
     ]
    }
   ],
   "source": [
    "data4=load_images_from_folder('C://Users//hp//Downloads//LGM_MAL_Task4//dataset//4//')\n",
    "\n",
    "for i in range(0,len(data4)):\n",
    "    data4[i]=np.append(data4[i],['4'])\n",
    "data=np.concatenate((data,data4))\n",
    "print(len(data))"
   ]
  },
  {
   "cell_type": "code",
   "execution_count": 11,
   "id": "c4967dc0",
   "metadata": {},
   "outputs": [
    {
     "name": "stdout",
     "output_type": "stream",
     "text": [
      "4341\n"
     ]
    }
   ],
   "source": [
    "data5=load_images_from_folder('C://Users//hp//Downloads//LGM_MAL_Task4//dataset//5//')\n",
    "\n",
    "for i in range(0,len(data5)):\n",
    "    data5[i]=np.append(data5[i],['5'])\n",
    "data=np.concatenate((data,data5))\n",
    "print(len(data))"
   ]
  },
  {
   "cell_type": "code",
   "execution_count": 12,
   "id": "bbc1329b",
   "metadata": {},
   "outputs": [
    {
     "name": "stdout",
     "output_type": "stream",
     "text": [
      "4922\n"
     ]
    }
   ],
   "source": [
    "data6=load_images_from_folder('C://Users//hp//Downloads//LGM_MAL_Task4//dataset//6//')\n",
    "\n",
    "for i in range(0,len(data6)):\n",
    "    data6[i]=np.append(data6[i],['6'])\n",
    "data=np.concatenate((data,data6))\n",
    "print(len(data))"
   ]
  },
  {
   "cell_type": "code",
   "execution_count": 13,
   "id": "0c7e1507",
   "metadata": {},
   "outputs": [
    {
     "name": "stdout",
     "output_type": "stream",
     "text": [
      "5455\n"
     ]
    }
   ],
   "source": [
    "data7=load_images_from_folder('C://Users//hp//Downloads//LGM_MAL_Task4//dataset//7//')\n",
    "\n",
    "for i in range(0,len(data7)):\n",
    "    data7[i]=np.append(data7[i],['7'])\n",
    "data=np.concatenate((data,data7))\n",
    "print(len(data))"
   ]
  },
  {
   "cell_type": "code",
   "execution_count": 14,
   "id": "c3b230c5",
   "metadata": {},
   "outputs": [
    {
     "name": "stdout",
     "output_type": "stream",
     "text": [
      "6009\n"
     ]
    }
   ],
   "source": [
    "data8=load_images_from_folder('C://Users//hp//Downloads//LGM_MAL_Task4//dataset//8//')\n",
    "\n",
    "for i in range(0,len(data8)):\n",
    "    data8[i]=np.append(data8[i],['8'])\n",
    "data=np.concatenate((data,data8))\n",
    "print(len(data))"
   ]
  },
  {
   "cell_type": "code",
   "execution_count": null,
   "id": "2c48e2cc",
   "metadata": {},
   "outputs": [],
   "source": [
    "data9=load_images_from_folder('C://Users//hp//Downloads//LGM_MAL_Task4//dataset//9//')\n",
    "\n",
    "for i in range(0,len(data9)):\n",
    "    data9[i]=np.append(data9[i],['9'])\n",
    "data=np.concatenate((data,data9))\n",
    "print(len(data))"
   ]
  },
  {
   "cell_type": "code",
   "execution_count": 18,
   "id": "54824669",
   "metadata": {},
   "outputs": [
    {
     "name": "stdout",
     "output_type": "stream",
     "text": [
      "6586\n"
     ]
    }
   ],
   "source": [
    "data12=load_images_from_folder('C://Users//hp//Downloads//LGM_MAL_Task4//dataset//times//')\n",
    "\n",
    "for i in range(0,len(data12)):\n",
    "    data12[i]=np.append(data12[i],['12'])\n",
    "data=np.concatenate((data,data12))\n",
    "print(len(data))"
   ]
  },
  {
   "cell_type": "code",
   "execution_count": 19,
   "id": "d814ecb4",
   "metadata": {},
   "outputs": [],
   "source": [
    "df=pd.DataFrame(data,index=None)\n",
    "df.to_csv('train_final.csv',index=False)"
   ]
  },
  {
   "cell_type": "markdown",
   "id": "24ec0b78",
   "metadata": {},
   "source": [
    "### Importing The Necessary Libraries"
   ]
  },
  {
   "cell_type": "code",
   "execution_count": 20,
   "id": "87972db5",
   "metadata": {},
   "outputs": [],
   "source": [
    "import pandas as pd\n",
    "import numpy as np\n",
    "import pickle"
   ]
  },
  {
   "cell_type": "code",
   "execution_count": 21,
   "id": "92a55415",
   "metadata": {},
   "outputs": [],
   "source": [
    "df_train=pd.read_csv('train_final.csv',index_col=False)\n",
    "labels=df_train[['784']]"
   ]
  },
  {
   "cell_type": "code",
   "execution_count": 22,
   "id": "38427dd6",
   "metadata": {},
   "outputs": [
    {
     "data": {
      "text/html": [
       "<div>\n",
       "<style scoped>\n",
       "    .dataframe tbody tr th:only-of-type {\n",
       "        vertical-align: middle;\n",
       "    }\n",
       "\n",
       "    .dataframe tbody tr th {\n",
       "        vertical-align: top;\n",
       "    }\n",
       "\n",
       "    .dataframe thead th {\n",
       "        text-align: right;\n",
       "    }\n",
       "</style>\n",
       "<table border=\"1\" class=\"dataframe\">\n",
       "  <thead>\n",
       "    <tr style=\"text-align: right;\">\n",
       "      <th></th>\n",
       "      <th>0</th>\n",
       "      <th>1</th>\n",
       "      <th>2</th>\n",
       "      <th>3</th>\n",
       "      <th>4</th>\n",
       "      <th>5</th>\n",
       "      <th>6</th>\n",
       "      <th>7</th>\n",
       "      <th>8</th>\n",
       "      <th>9</th>\n",
       "      <th>...</th>\n",
       "      <th>774</th>\n",
       "      <th>775</th>\n",
       "      <th>776</th>\n",
       "      <th>777</th>\n",
       "      <th>778</th>\n",
       "      <th>779</th>\n",
       "      <th>780</th>\n",
       "      <th>781</th>\n",
       "      <th>782</th>\n",
       "      <th>783</th>\n",
       "    </tr>\n",
       "  </thead>\n",
       "  <tbody>\n",
       "    <tr>\n",
       "      <th>0</th>\n",
       "      <td>0</td>\n",
       "      <td>0</td>\n",
       "      <td>0</td>\n",
       "      <td>0</td>\n",
       "      <td>0</td>\n",
       "      <td>0</td>\n",
       "      <td>0</td>\n",
       "      <td>0</td>\n",
       "      <td>0</td>\n",
       "      <td>0</td>\n",
       "      <td>...</td>\n",
       "      <td>0</td>\n",
       "      <td>0</td>\n",
       "      <td>0</td>\n",
       "      <td>0</td>\n",
       "      <td>0</td>\n",
       "      <td>0</td>\n",
       "      <td>0</td>\n",
       "      <td>0</td>\n",
       "      <td>0</td>\n",
       "      <td>0</td>\n",
       "    </tr>\n",
       "    <tr>\n",
       "      <th>1</th>\n",
       "      <td>0</td>\n",
       "      <td>0</td>\n",
       "      <td>0</td>\n",
       "      <td>0</td>\n",
       "      <td>0</td>\n",
       "      <td>0</td>\n",
       "      <td>0</td>\n",
       "      <td>0</td>\n",
       "      <td>0</td>\n",
       "      <td>0</td>\n",
       "      <td>...</td>\n",
       "      <td>0</td>\n",
       "      <td>0</td>\n",
       "      <td>0</td>\n",
       "      <td>0</td>\n",
       "      <td>0</td>\n",
       "      <td>0</td>\n",
       "      <td>0</td>\n",
       "      <td>0</td>\n",
       "      <td>0</td>\n",
       "      <td>0</td>\n",
       "    </tr>\n",
       "    <tr>\n",
       "      <th>2</th>\n",
       "      <td>0</td>\n",
       "      <td>73</td>\n",
       "      <td>0</td>\n",
       "      <td>0</td>\n",
       "      <td>0</td>\n",
       "      <td>0</td>\n",
       "      <td>0</td>\n",
       "      <td>0</td>\n",
       "      <td>0</td>\n",
       "      <td>0</td>\n",
       "      <td>...</td>\n",
       "      <td>0</td>\n",
       "      <td>0</td>\n",
       "      <td>0</td>\n",
       "      <td>0</td>\n",
       "      <td>0</td>\n",
       "      <td>0</td>\n",
       "      <td>0</td>\n",
       "      <td>0</td>\n",
       "      <td>0</td>\n",
       "      <td>0</td>\n",
       "    </tr>\n",
       "    <tr>\n",
       "      <th>3</th>\n",
       "      <td>0</td>\n",
       "      <td>0</td>\n",
       "      <td>0</td>\n",
       "      <td>0</td>\n",
       "      <td>0</td>\n",
       "      <td>255</td>\n",
       "      <td>255</td>\n",
       "      <td>255</td>\n",
       "      <td>255</td>\n",
       "      <td>255</td>\n",
       "      <td>...</td>\n",
       "      <td>0</td>\n",
       "      <td>0</td>\n",
       "      <td>0</td>\n",
       "      <td>0</td>\n",
       "      <td>0</td>\n",
       "      <td>0</td>\n",
       "      <td>0</td>\n",
       "      <td>0</td>\n",
       "      <td>0</td>\n",
       "      <td>0</td>\n",
       "    </tr>\n",
       "    <tr>\n",
       "      <th>4</th>\n",
       "      <td>0</td>\n",
       "      <td>0</td>\n",
       "      <td>0</td>\n",
       "      <td>0</td>\n",
       "      <td>0</td>\n",
       "      <td>0</td>\n",
       "      <td>0</td>\n",
       "      <td>0</td>\n",
       "      <td>18</td>\n",
       "      <td>255</td>\n",
       "      <td>...</td>\n",
       "      <td>0</td>\n",
       "      <td>0</td>\n",
       "      <td>0</td>\n",
       "      <td>0</td>\n",
       "      <td>0</td>\n",
       "      <td>0</td>\n",
       "      <td>0</td>\n",
       "      <td>0</td>\n",
       "      <td>0</td>\n",
       "      <td>0</td>\n",
       "    </tr>\n",
       "    <tr>\n",
       "      <th>5</th>\n",
       "      <td>0</td>\n",
       "      <td>0</td>\n",
       "      <td>0</td>\n",
       "      <td>32</td>\n",
       "      <td>255</td>\n",
       "      <td>255</td>\n",
       "      <td>255</td>\n",
       "      <td>255</td>\n",
       "      <td>255</td>\n",
       "      <td>255</td>\n",
       "      <td>...</td>\n",
       "      <td>0</td>\n",
       "      <td>0</td>\n",
       "      <td>0</td>\n",
       "      <td>0</td>\n",
       "      <td>0</td>\n",
       "      <td>0</td>\n",
       "      <td>0</td>\n",
       "      <td>0</td>\n",
       "      <td>0</td>\n",
       "      <td>0</td>\n",
       "    </tr>\n",
       "    <tr>\n",
       "      <th>6</th>\n",
       "      <td>4</td>\n",
       "      <td>255</td>\n",
       "      <td>0</td>\n",
       "      <td>0</td>\n",
       "      <td>0</td>\n",
       "      <td>0</td>\n",
       "      <td>0</td>\n",
       "      <td>0</td>\n",
       "      <td>0</td>\n",
       "      <td>0</td>\n",
       "      <td>...</td>\n",
       "      <td>0</td>\n",
       "      <td>0</td>\n",
       "      <td>0</td>\n",
       "      <td>0</td>\n",
       "      <td>0</td>\n",
       "      <td>0</td>\n",
       "      <td>0</td>\n",
       "      <td>0</td>\n",
       "      <td>0</td>\n",
       "      <td>0</td>\n",
       "    </tr>\n",
       "    <tr>\n",
       "      <th>7</th>\n",
       "      <td>0</td>\n",
       "      <td>5</td>\n",
       "      <td>255</td>\n",
       "      <td>255</td>\n",
       "      <td>255</td>\n",
       "      <td>5</td>\n",
       "      <td>5</td>\n",
       "      <td>0</td>\n",
       "      <td>0</td>\n",
       "      <td>0</td>\n",
       "      <td>...</td>\n",
       "      <td>0</td>\n",
       "      <td>0</td>\n",
       "      <td>0</td>\n",
       "      <td>0</td>\n",
       "      <td>0</td>\n",
       "      <td>0</td>\n",
       "      <td>0</td>\n",
       "      <td>0</td>\n",
       "      <td>0</td>\n",
       "      <td>0</td>\n",
       "    </tr>\n",
       "    <tr>\n",
       "      <th>8</th>\n",
       "      <td>0</td>\n",
       "      <td>0</td>\n",
       "      <td>0</td>\n",
       "      <td>0</td>\n",
       "      <td>0</td>\n",
       "      <td>0</td>\n",
       "      <td>0</td>\n",
       "      <td>0</td>\n",
       "      <td>0</td>\n",
       "      <td>0</td>\n",
       "      <td>...</td>\n",
       "      <td>0</td>\n",
       "      <td>0</td>\n",
       "      <td>0</td>\n",
       "      <td>0</td>\n",
       "      <td>0</td>\n",
       "      <td>0</td>\n",
       "      <td>0</td>\n",
       "      <td>0</td>\n",
       "      <td>0</td>\n",
       "      <td>0</td>\n",
       "    </tr>\n",
       "    <tr>\n",
       "      <th>9</th>\n",
       "      <td>0</td>\n",
       "      <td>0</td>\n",
       "      <td>0</td>\n",
       "      <td>0</td>\n",
       "      <td>0</td>\n",
       "      <td>0</td>\n",
       "      <td>0</td>\n",
       "      <td>0</td>\n",
       "      <td>0</td>\n",
       "      <td>0</td>\n",
       "      <td>...</td>\n",
       "      <td>0</td>\n",
       "      <td>0</td>\n",
       "      <td>0</td>\n",
       "      <td>0</td>\n",
       "      <td>0</td>\n",
       "      <td>0</td>\n",
       "      <td>0</td>\n",
       "      <td>0</td>\n",
       "      <td>0</td>\n",
       "      <td>0</td>\n",
       "    </tr>\n",
       "  </tbody>\n",
       "</table>\n",
       "<p>10 rows × 784 columns</p>\n",
       "</div>"
      ],
      "text/plain": [
       "   0    1    2    3    4    5    6    7    8    9  ...  774  775  776  777  \\\n",
       "0  0    0    0    0    0    0    0    0    0    0  ...    0    0    0    0   \n",
       "1  0    0    0    0    0    0    0    0    0    0  ...    0    0    0    0   \n",
       "2  0   73    0    0    0    0    0    0    0    0  ...    0    0    0    0   \n",
       "3  0    0    0    0    0  255  255  255  255  255  ...    0    0    0    0   \n",
       "4  0    0    0    0    0    0    0    0   18  255  ...    0    0    0    0   \n",
       "5  0    0    0   32  255  255  255  255  255  255  ...    0    0    0    0   \n",
       "6  4  255    0    0    0    0    0    0    0    0  ...    0    0    0    0   \n",
       "7  0    5  255  255  255    5    5    0    0    0  ...    0    0    0    0   \n",
       "8  0    0    0    0    0    0    0    0    0    0  ...    0    0    0    0   \n",
       "9  0    0    0    0    0    0    0    0    0    0  ...    0    0    0    0   \n",
       "\n",
       "   778  779  780  781  782  783  \n",
       "0    0    0    0    0    0    0  \n",
       "1    0    0    0    0    0    0  \n",
       "2    0    0    0    0    0    0  \n",
       "3    0    0    0    0    0    0  \n",
       "4    0    0    0    0    0    0  \n",
       "5    0    0    0    0    0    0  \n",
       "6    0    0    0    0    0    0  \n",
       "7    0    0    0    0    0    0  \n",
       "8    0    0    0    0    0    0  \n",
       "9    0    0    0    0    0    0  \n",
       "\n",
       "[10 rows x 784 columns]"
      ]
     },
     "execution_count": 22,
     "metadata": {},
     "output_type": "execute_result"
    }
   ],
   "source": [
    "df_train.drop(df_train.columns[[784]],axis=1,inplace=True)\n",
    "df_train.head(10)"
   ]
  },
  {
   "cell_type": "code",
   "execution_count": 23,
   "id": "c4e9f866",
   "metadata": {},
   "outputs": [
    {
     "data": {
      "text/plain": [
       "'channels_last'"
      ]
     },
     "execution_count": 23,
     "metadata": {},
     "output_type": "execute_result"
    }
   ],
   "source": [
    "np.random.seed(1212)\n",
    "import keras\n",
    "from keras.models import Model\n",
    "from keras.layers import *\n",
    "from keras import optimizers\n",
    "from keras.layers import Input, Dense\n",
    "from keras.models import Sequential\n",
    "from keras.layers import Dense\n",
    "from keras.layers import Dropout\n",
    "from keras.layers import Flatten\n",
    "from keras.layers.convolutional import Conv2D\n",
    "from keras.layers.convolutional import MaxPooling2D\n",
    "from keras.utils import np_utils\n",
    "from keras import backend as K\n",
    "K.image_data_format()"
   ]
  },
  {
   "cell_type": "code",
   "execution_count": 24,
   "id": "5c577c87",
   "metadata": {},
   "outputs": [],
   "source": [
    "labels=np.array(labels)"
   ]
  },
  {
   "cell_type": "code",
   "execution_count": 25,
   "id": "e6f7d420",
   "metadata": {},
   "outputs": [],
   "source": [
    "from keras.utils.np_utils import to_categorical\n",
    "cat=to_categorical(labels,num_classes=13)"
   ]
  },
  {
   "cell_type": "code",
   "execution_count": 26,
   "id": "69c2e32f",
   "metadata": {},
   "outputs": [
    {
     "name": "stdout",
     "output_type": "stream",
     "text": [
      "[0. 0. 0. 0. 0. 0. 0. 0. 0. 0. 1. 0. 0.]\n"
     ]
    }
   ],
   "source": [
    "print(cat[0])"
   ]
  },
  {
   "cell_type": "code",
   "execution_count": 27,
   "id": "6f0f0665",
   "metadata": {},
   "outputs": [
    {
     "data": {
      "text/html": [
       "<div>\n",
       "<style scoped>\n",
       "    .dataframe tbody tr th:only-of-type {\n",
       "        vertical-align: middle;\n",
       "    }\n",
       "\n",
       "    .dataframe tbody tr th {\n",
       "        vertical-align: top;\n",
       "    }\n",
       "\n",
       "    .dataframe thead th {\n",
       "        text-align: right;\n",
       "    }\n",
       "</style>\n",
       "<table border=\"1\" class=\"dataframe\">\n",
       "  <thead>\n",
       "    <tr style=\"text-align: right;\">\n",
       "      <th></th>\n",
       "      <th>0</th>\n",
       "      <th>1</th>\n",
       "      <th>2</th>\n",
       "      <th>3</th>\n",
       "      <th>4</th>\n",
       "      <th>5</th>\n",
       "      <th>6</th>\n",
       "      <th>7</th>\n",
       "      <th>8</th>\n",
       "      <th>9</th>\n",
       "      <th>...</th>\n",
       "      <th>774</th>\n",
       "      <th>775</th>\n",
       "      <th>776</th>\n",
       "      <th>777</th>\n",
       "      <th>778</th>\n",
       "      <th>779</th>\n",
       "      <th>780</th>\n",
       "      <th>781</th>\n",
       "      <th>782</th>\n",
       "      <th>783</th>\n",
       "    </tr>\n",
       "  </thead>\n",
       "  <tbody>\n",
       "    <tr>\n",
       "      <th>0</th>\n",
       "      <td>0</td>\n",
       "      <td>0</td>\n",
       "      <td>0</td>\n",
       "      <td>0</td>\n",
       "      <td>0</td>\n",
       "      <td>0</td>\n",
       "      <td>0</td>\n",
       "      <td>0</td>\n",
       "      <td>0</td>\n",
       "      <td>0</td>\n",
       "      <td>...</td>\n",
       "      <td>0</td>\n",
       "      <td>0</td>\n",
       "      <td>0</td>\n",
       "      <td>0</td>\n",
       "      <td>0</td>\n",
       "      <td>0</td>\n",
       "      <td>0</td>\n",
       "      <td>0</td>\n",
       "      <td>0</td>\n",
       "      <td>0</td>\n",
       "    </tr>\n",
       "    <tr>\n",
       "      <th>1</th>\n",
       "      <td>0</td>\n",
       "      <td>0</td>\n",
       "      <td>0</td>\n",
       "      <td>0</td>\n",
       "      <td>0</td>\n",
       "      <td>0</td>\n",
       "      <td>0</td>\n",
       "      <td>0</td>\n",
       "      <td>0</td>\n",
       "      <td>0</td>\n",
       "      <td>...</td>\n",
       "      <td>0</td>\n",
       "      <td>0</td>\n",
       "      <td>0</td>\n",
       "      <td>0</td>\n",
       "      <td>0</td>\n",
       "      <td>0</td>\n",
       "      <td>0</td>\n",
       "      <td>0</td>\n",
       "      <td>0</td>\n",
       "      <td>0</td>\n",
       "    </tr>\n",
       "    <tr>\n",
       "      <th>2</th>\n",
       "      <td>0</td>\n",
       "      <td>73</td>\n",
       "      <td>0</td>\n",
       "      <td>0</td>\n",
       "      <td>0</td>\n",
       "      <td>0</td>\n",
       "      <td>0</td>\n",
       "      <td>0</td>\n",
       "      <td>0</td>\n",
       "      <td>0</td>\n",
       "      <td>...</td>\n",
       "      <td>0</td>\n",
       "      <td>0</td>\n",
       "      <td>0</td>\n",
       "      <td>0</td>\n",
       "      <td>0</td>\n",
       "      <td>0</td>\n",
       "      <td>0</td>\n",
       "      <td>0</td>\n",
       "      <td>0</td>\n",
       "      <td>0</td>\n",
       "    </tr>\n",
       "    <tr>\n",
       "      <th>3</th>\n",
       "      <td>0</td>\n",
       "      <td>0</td>\n",
       "      <td>0</td>\n",
       "      <td>0</td>\n",
       "      <td>0</td>\n",
       "      <td>255</td>\n",
       "      <td>255</td>\n",
       "      <td>255</td>\n",
       "      <td>255</td>\n",
       "      <td>255</td>\n",
       "      <td>...</td>\n",
       "      <td>0</td>\n",
       "      <td>0</td>\n",
       "      <td>0</td>\n",
       "      <td>0</td>\n",
       "      <td>0</td>\n",
       "      <td>0</td>\n",
       "      <td>0</td>\n",
       "      <td>0</td>\n",
       "      <td>0</td>\n",
       "      <td>0</td>\n",
       "    </tr>\n",
       "    <tr>\n",
       "      <th>4</th>\n",
       "      <td>0</td>\n",
       "      <td>0</td>\n",
       "      <td>0</td>\n",
       "      <td>0</td>\n",
       "      <td>0</td>\n",
       "      <td>0</td>\n",
       "      <td>0</td>\n",
       "      <td>0</td>\n",
       "      <td>18</td>\n",
       "      <td>255</td>\n",
       "      <td>...</td>\n",
       "      <td>0</td>\n",
       "      <td>0</td>\n",
       "      <td>0</td>\n",
       "      <td>0</td>\n",
       "      <td>0</td>\n",
       "      <td>0</td>\n",
       "      <td>0</td>\n",
       "      <td>0</td>\n",
       "      <td>0</td>\n",
       "      <td>0</td>\n",
       "    </tr>\n",
       "    <tr>\n",
       "      <th>5</th>\n",
       "      <td>0</td>\n",
       "      <td>0</td>\n",
       "      <td>0</td>\n",
       "      <td>32</td>\n",
       "      <td>255</td>\n",
       "      <td>255</td>\n",
       "      <td>255</td>\n",
       "      <td>255</td>\n",
       "      <td>255</td>\n",
       "      <td>255</td>\n",
       "      <td>...</td>\n",
       "      <td>0</td>\n",
       "      <td>0</td>\n",
       "      <td>0</td>\n",
       "      <td>0</td>\n",
       "      <td>0</td>\n",
       "      <td>0</td>\n",
       "      <td>0</td>\n",
       "      <td>0</td>\n",
       "      <td>0</td>\n",
       "      <td>0</td>\n",
       "    </tr>\n",
       "    <tr>\n",
       "      <th>6</th>\n",
       "      <td>4</td>\n",
       "      <td>255</td>\n",
       "      <td>0</td>\n",
       "      <td>0</td>\n",
       "      <td>0</td>\n",
       "      <td>0</td>\n",
       "      <td>0</td>\n",
       "      <td>0</td>\n",
       "      <td>0</td>\n",
       "      <td>0</td>\n",
       "      <td>...</td>\n",
       "      <td>0</td>\n",
       "      <td>0</td>\n",
       "      <td>0</td>\n",
       "      <td>0</td>\n",
       "      <td>0</td>\n",
       "      <td>0</td>\n",
       "      <td>0</td>\n",
       "      <td>0</td>\n",
       "      <td>0</td>\n",
       "      <td>0</td>\n",
       "    </tr>\n",
       "    <tr>\n",
       "      <th>7</th>\n",
       "      <td>0</td>\n",
       "      <td>5</td>\n",
       "      <td>255</td>\n",
       "      <td>255</td>\n",
       "      <td>255</td>\n",
       "      <td>5</td>\n",
       "      <td>5</td>\n",
       "      <td>0</td>\n",
       "      <td>0</td>\n",
       "      <td>0</td>\n",
       "      <td>...</td>\n",
       "      <td>0</td>\n",
       "      <td>0</td>\n",
       "      <td>0</td>\n",
       "      <td>0</td>\n",
       "      <td>0</td>\n",
       "      <td>0</td>\n",
       "      <td>0</td>\n",
       "      <td>0</td>\n",
       "      <td>0</td>\n",
       "      <td>0</td>\n",
       "    </tr>\n",
       "    <tr>\n",
       "      <th>8</th>\n",
       "      <td>0</td>\n",
       "      <td>0</td>\n",
       "      <td>0</td>\n",
       "      <td>0</td>\n",
       "      <td>0</td>\n",
       "      <td>0</td>\n",
       "      <td>0</td>\n",
       "      <td>0</td>\n",
       "      <td>0</td>\n",
       "      <td>0</td>\n",
       "      <td>...</td>\n",
       "      <td>0</td>\n",
       "      <td>0</td>\n",
       "      <td>0</td>\n",
       "      <td>0</td>\n",
       "      <td>0</td>\n",
       "      <td>0</td>\n",
       "      <td>0</td>\n",
       "      <td>0</td>\n",
       "      <td>0</td>\n",
       "      <td>0</td>\n",
       "    </tr>\n",
       "    <tr>\n",
       "      <th>9</th>\n",
       "      <td>0</td>\n",
       "      <td>0</td>\n",
       "      <td>0</td>\n",
       "      <td>0</td>\n",
       "      <td>0</td>\n",
       "      <td>0</td>\n",
       "      <td>0</td>\n",
       "      <td>0</td>\n",
       "      <td>0</td>\n",
       "      <td>0</td>\n",
       "      <td>...</td>\n",
       "      <td>0</td>\n",
       "      <td>0</td>\n",
       "      <td>0</td>\n",
       "      <td>0</td>\n",
       "      <td>0</td>\n",
       "      <td>0</td>\n",
       "      <td>0</td>\n",
       "      <td>0</td>\n",
       "      <td>0</td>\n",
       "      <td>0</td>\n",
       "    </tr>\n",
       "  </tbody>\n",
       "</table>\n",
       "<p>10 rows × 784 columns</p>\n",
       "</div>"
      ],
      "text/plain": [
       "   0    1    2    3    4    5    6    7    8    9  ...  774  775  776  777  \\\n",
       "0  0    0    0    0    0    0    0    0    0    0  ...    0    0    0    0   \n",
       "1  0    0    0    0    0    0    0    0    0    0  ...    0    0    0    0   \n",
       "2  0   73    0    0    0    0    0    0    0    0  ...    0    0    0    0   \n",
       "3  0    0    0    0    0  255  255  255  255  255  ...    0    0    0    0   \n",
       "4  0    0    0    0    0    0    0    0   18  255  ...    0    0    0    0   \n",
       "5  0    0    0   32  255  255  255  255  255  255  ...    0    0    0    0   \n",
       "6  4  255    0    0    0    0    0    0    0    0  ...    0    0    0    0   \n",
       "7  0    5  255  255  255    5    5    0    0    0  ...    0    0    0    0   \n",
       "8  0    0    0    0    0    0    0    0    0    0  ...    0    0    0    0   \n",
       "9  0    0    0    0    0    0    0    0    0    0  ...    0    0    0    0   \n",
       "\n",
       "   778  779  780  781  782  783  \n",
       "0    0    0    0    0    0    0  \n",
       "1    0    0    0    0    0    0  \n",
       "2    0    0    0    0    0    0  \n",
       "3    0    0    0    0    0    0  \n",
       "4    0    0    0    0    0    0  \n",
       "5    0    0    0    0    0    0  \n",
       "6    0    0    0    0    0    0  \n",
       "7    0    0    0    0    0    0  \n",
       "8    0    0    0    0    0    0  \n",
       "9    0    0    0    0    0    0  \n",
       "\n",
       "[10 rows x 784 columns]"
      ]
     },
     "execution_count": 27,
     "metadata": {},
     "output_type": "execute_result"
    }
   ],
   "source": [
    "df_train.head(10)"
   ]
  },
  {
   "cell_type": "code",
   "execution_count": 28,
   "id": "9a864b36",
   "metadata": {},
   "outputs": [
    {
     "data": {
      "text/plain": [
       "(6586, 784)"
      ]
     },
     "execution_count": 28,
     "metadata": {},
     "output_type": "execute_result"
    }
   ],
   "source": [
    "df_train.shape"
   ]
  },
  {
   "cell_type": "code",
   "execution_count": 29,
   "id": "5ac1c922",
   "metadata": {},
   "outputs": [],
   "source": [
    "temp=df_train.to_numpy()"
   ]
  },
  {
   "cell_type": "code",
   "execution_count": 30,
   "id": "8362ce12",
   "metadata": {},
   "outputs": [],
   "source": [
    "X_train = temp.reshape(temp.shape[0], 28, 28, 1)"
   ]
  },
  {
   "cell_type": "code",
   "execution_count": 31,
   "id": "96ce7c93",
   "metadata": {},
   "outputs": [
    {
     "data": {
      "text/plain": [
       "6586"
      ]
     },
     "execution_count": 31,
     "metadata": {},
     "output_type": "execute_result"
    }
   ],
   "source": [
    "temp.shape[0]"
   ]
  },
  {
   "cell_type": "code",
   "execution_count": 32,
   "id": "3e9c3953",
   "metadata": {},
   "outputs": [
    {
     "data": {
      "text/plain": [
       "(6586, 28, 28, 1)"
      ]
     },
     "execution_count": 32,
     "metadata": {},
     "output_type": "execute_result"
    }
   ],
   "source": [
    "X_train.shape"
   ]
  },
  {
   "cell_type": "code",
   "execution_count": 35,
   "id": "9b0b2734",
   "metadata": {},
   "outputs": [],
   "source": [
    "l=[]\n",
    "for i in range(6586):\n",
    "    l.append(np.array(df_train[i:i+1]).reshape(1,28,28))"
   ]
  },
  {
   "cell_type": "code",
   "execution_count": 36,
   "id": "f497d178",
   "metadata": {},
   "outputs": [],
   "source": [
    "np.random.seed(7)"
   ]
  },
  {
   "cell_type": "code",
   "execution_count": 37,
   "id": "abce02da",
   "metadata": {},
   "outputs": [
    {
     "data": {
      "text/plain": [
       "1"
      ]
     },
     "execution_count": 37,
     "metadata": {},
     "output_type": "execute_result"
    }
   ],
   "source": [
    "len(l[0])"
   ]
  },
  {
   "cell_type": "code",
   "execution_count": 38,
   "id": "3f058db6",
   "metadata": {},
   "outputs": [
    {
     "data": {
      "text/plain": [
       "(6586, 28, 28, 1)"
      ]
     },
     "execution_count": 38,
     "metadata": {},
     "output_type": "execute_result"
    }
   ],
   "source": [
    "X_train.shape"
   ]
  },
  {
   "cell_type": "markdown",
   "id": "03d332c5",
   "metadata": {},
   "source": [
    "### 2. Building The Convultional Neural Network Model"
   ]
  },
  {
   "cell_type": "code",
   "execution_count": 39,
   "id": "e3ccfd00",
   "metadata": {},
   "outputs": [],
   "source": [
    "model = Sequential()\n",
    "model.add(Conv2D(32, (3,3), input_shape=(28, 28,1), activation='relu',padding='same'))\n",
    "model.add(MaxPooling2D(pool_size=(2, 2)))\n",
    "model.add(Conv2D(15, (3, 3), activation='relu'))\n",
    "model.add(MaxPooling2D(pool_size=(2, 2)))\n",
    "model.add(Dropout(0.2))\n",
    "model.add(Flatten())\n",
    "model.add(Dense(128, activation='relu'))\n",
    "model.add(Dense(50, activation='relu'))\n",
    "model.add(Dense(13, activation='softmax'))\n",
    "# Compile model\n",
    "model.compile(loss='categorical_crossentropy', optimizer='adam', metrics=['accuracy'])"
   ]
  },
  {
   "cell_type": "markdown",
   "id": "16e3cc91",
   "metadata": {},
   "source": [
    "### 3. Training The Model"
   ]
  },
  {
   "cell_type": "code",
   "execution_count": 40,
   "id": "28315702",
   "metadata": {},
   "outputs": [],
   "source": [
    "from keras.models import model_from_json"
   ]
  },
  {
   "cell_type": "code",
   "execution_count": 41,
   "id": "19844f07",
   "metadata": {},
   "outputs": [
    {
     "name": "stdout",
     "output_type": "stream",
     "text": [
      "Epoch 1/10\n",
      "33/33 [==============================] - 3s 60ms/step - loss: 6.2098 - accuracy: 0.3623\n",
      "Epoch 2/10\n",
      "33/33 [==============================] - 2s 60ms/step - loss: 1.0116 - accuracy: 0.6790\n",
      "Epoch 3/10\n",
      "33/33 [==============================] - 2s 63ms/step - loss: 0.5621 - accuracy: 0.8304\n",
      "Epoch 4/10\n",
      "33/33 [==============================] - 2s 59ms/step - loss: 0.3723 - accuracy: 0.8855\n",
      "Epoch 5/10\n",
      "33/33 [==============================] - 2s 60ms/step - loss: 0.2611 - accuracy: 0.9227\n",
      "Epoch 6/10\n",
      "33/33 [==============================] - 2s 61ms/step - loss: 0.1913 - accuracy: 0.9365\n",
      "Epoch 7/10\n",
      "33/33 [==============================] - 2s 61ms/step - loss: 0.1584 - accuracy: 0.9482\n",
      "Epoch 8/10\n",
      "33/33 [==============================] - 2s 60ms/step - loss: 0.1309 - accuracy: 0.9593\n",
      "Epoch 9/10\n",
      "33/33 [==============================] - 2s 68ms/step - loss: 0.1181 - accuracy: 0.9630\n",
      "Epoch 10/10\n",
      "33/33 [==============================] - 2s 73ms/step - loss: 0.0868 - accuracy: 0.9731\n"
     ]
    },
    {
     "data": {
      "text/plain": [
       "<keras.callbacks.History at 0x1e4bcaa1e80>"
      ]
     },
     "execution_count": 41,
     "metadata": {},
     "output_type": "execute_result"
    }
   ],
   "source": [
    "model.fit(X_train, cat, epochs=10, batch_size=200,shuffle=True,verbose=1)"
   ]
  },
  {
   "cell_type": "code",
   "execution_count": 42,
   "id": "87bef932",
   "metadata": {},
   "outputs": [],
   "source": [
    "model_json = model.to_json()\n",
    "with open(\"model_final.json\", \"w\") as json_file:\n",
    "    json_file.write(model_json)\n",
    "# serialize weights to HDF5\n",
    "model.save_weights(\"model_final.h5\")"
   ]
  },
  {
   "cell_type": "code",
   "execution_count": 43,
   "id": "9e2a9079",
   "metadata": {},
   "outputs": [],
   "source": [
    "import cv2\n",
    "import numpy\n",
    "from keras.datasets import mnist\n",
    "from keras.models import Sequential\n",
    "from keras.layers import Dense\n",
    "from keras.layers import Dropout\n",
    "from keras.layers import Flatten\n",
    "from keras.layers.convolutional import Conv2D\n",
    "from keras.layers.convolutional import MaxPooling2D\n",
    "from keras.utils import np_utils\n",
    "from keras import backend as K\n",
    "# K.set_image_dim_ordering('th')\n",
    "from keras.models import model_from_json"
   ]
  },
  {
   "cell_type": "code",
   "execution_count": 44,
   "id": "95bd3051",
   "metadata": {},
   "outputs": [],
   "source": [
    "json_file = open('model_final.json', 'r')\n",
    "loaded_model_json = json_file.read()\n",
    "json_file.close()\n",
    "loaded_model = model_from_json(loaded_model_json)\n",
    "# load weights into new model\n",
    "loaded_model.load_weights(\"model_final.h5\")"
   ]
  },
  {
   "cell_type": "code",
   "execution_count": 46,
   "id": "9a8269d1",
   "metadata": {},
   "outputs": [],
   "source": [
    "import cv2\n",
    "import numpy as np\n",
    "img = cv2.imread('test.jpg',cv2.IMREAD_GRAYSCALE)"
   ]
  },
  {
   "cell_type": "code",
   "execution_count": 47,
   "id": "b90eda52",
   "metadata": {},
   "outputs": [
    {
     "data": {
      "text/plain": [
       "array([[223, 221, 227, ..., 227, 239, 227],\n",
       "       [195, 182, 240, ..., 224, 185, 226],\n",
       "       [223, 221, 225, ..., 223, 195, 230],\n",
       "       ...,\n",
       "       [225, 219, 227, ..., 223, 212, 214],\n",
       "       [225, 218, 228, ..., 233, 168, 196],\n",
       "       [223, 170, 232, ..., 221, 220, 219]], dtype=uint8)"
      ]
     },
     "execution_count": 47,
     "metadata": {},
     "output_type": "execute_result"
    }
   ],
   "source": [
    "img"
   ]
  },
  {
   "cell_type": "code",
   "execution_count": 52,
   "id": "cf3fe544",
   "metadata": {},
   "outputs": [
    {
     "name": "stdout",
     "output_type": "stream",
     "text": [
      "1314\n",
      "[[0, 0, 727, 480], [6, 461, 53, 5], [6, 305, 5, 3], [6, 213, 12, 7], [6, 124, 8, 5], [6, 35, 5, 4], [7, 383, 6, 4], [8, 352, 8, 8], [8, 25, 19, 12], [9, 304, 4, 3], [9, 196, 6, 4], [10, 440, 5, 10], [10, 271, 5, 11], [10, 103, 5, 10], [11, 383, 5, 3], [11, 356, 1, 2], [11, 300, 14, 6], [11, 31, 1, 1], [12, 123, 4, 3], [14, 382, 5, 3], [14, 350, 13, 10], [14, 195, 7, 8], [14, 121, 6, 4], [16, 440, 4, 10], [16, 271, 4, 11], [16, 212, 10, 6], [17, 381, 49, 6], [17, 352, 2, 3], [17, 199, 1, 1], [17, 27, 1, 2], [18, 122, 5, 4], [19, 193, 13, 10], [20, 34, 41, 6], [21, 440, 5, 10], [21, 124, 5, 4], [22, 195, 2, 2], [23, 303, 24, 6], [24, 216, 5, 4], [24, 126, 3, 3], [25, 127, 4, 3], [27, 217, 33, 4], [27, 128, 8, 3], [28, 195, 1, 2], [33, 125, 42, 7], [38, 50, 3, 3], [38, 8, 3, 3], [45, 305, 14, 4], [52, 260, 3, 3], [52, 162, 3, 3], [52, 148, 3, 3], [52, 92, 3, 3], [52, 78, 3, 3], [52, 64, 3, 3], [52, 50, 3, 3], [52, 8, 3, 3], [57, 460, 25, 6], [57, 303, 11, 5], [58, 216, 4, 3], [59, 34, 20, 6], [60, 215, 4, 3], [62, 216, 4, 3], [64, 384, 17, 4], [64, 217, 17, 5], [66, 306, 5, 3], [66, 302, 3, 3], [66, 288, 3, 3], [66, 274, 3, 3], [66, 246, 3, 3], [66, 176, 3, 3], [66, 162, 3, 3], [66, 120, 3, 3], [66, 92, 3, 3], [66, 78, 3, 3], [66, 64, 3, 3], [66, 50, 3, 3], [66, 22, 3, 3], [66, 8, 3, 3], [69, 306, 12, 4], [73, 128, 7, 4], [77, 36, 3, 3], [78, 127, 3, 3], [78, 34, 6, 6], [79, 383, 3, 3], [79, 301, 4, 6], [79, 121, 3, 3], [80, 454, 3, 10], [80, 446, 3, 7], [80, 371, 3, 12], [80, 351, 5, 20], [80, 290, 3, 13], [80, 287, 3, 4], [80, 284, 3, 3], [80, 264, 5, 21], [80, 260, 3, 3], [80, 211, 3, 3], [80, 206, 3, 6], [80, 204, 3, 3], [80, 188, 4, 14], [80, 162, 3, 3], [80, 120, 3, 3], [80, 108, 4, 8], [81, 438, 4, 7], [81, 39, 4, 4], [82, 276, 3, 4], [82, 274, 3, 3], [82, 271, 3, 3], [82, 204, 3, 3], [82, 196, 3, 3], [82, 120, 3, 3], [82, 117, 3, 4], [82, 114, 3, 4], [83, 447, 3, 4], [83, 444, 3, 3], [83, 374, 3, 3], [83, 369, 3, 3], [83, 299, 3, 3], [83, 296, 3, 3], [83, 293, 3, 3], [83, 288, 3, 3], [83, 217, 18, 5], [83, 215, 3, 3], [83, 212, 3, 3], [83, 210, 3, 3], [83, 132, 4, 6], [83, 130, 3, 4], [83, 128, 3, 3], [83, 44, 3, 4], [84, 451, 3, 3], [84, 379, 3, 3], [84, 302, 5, 5], [85, 455, 3, 3], [85, 380, 3, 3], [85, 126, 17, 8], [85, 41, 3, 3], [85, 39, 3, 3], [86, 458, 3, 3], [86, 381, 3, 3], [86, 38, 3, 3], [87, 459, 4, 4], [87, 382, 3, 3], [87, 305, 3, 3], [87, 32, 27, 8], [88, 383, 3, 3], [88, 304, 17, 5], [89, 461, 5, 3], [89, 383, 14, 4], [92, 460, 55, 6], [99, 216, 4, 3], [100, 125, 4, 3], [101, 382, 10, 5], [101, 215, 4, 3], [102, 121, 10, 6], [103, 302, 5, 4], [103, 214, 4, 3], [105, 213, 5, 3], [107, 300, 11, 6], [108, 212, 7, 4], [109, 381, 9, 4], [110, 122, 4, 3], [112, 123, 6, 5], [112, 34, 45, 6], [113, 214, 3, 3], [114, 215, 4, 3], [116, 383, 17, 4], [116, 304, 3, 3], [116, 216, 3, 3], [116, 126, 3, 3], [117, 305, 4, 3], [117, 217, 31, 4], [117, 127, 29, 5], [119, 305, 28, 5], [121, 266, 3, 3], [121, 120, 3, 3], [132, 383, 12, 3], [135, 106, 3, 3], [135, 92, 3, 3], [135, 64, 3, 3], [135, 50, 3, 3], [135, 22, 3, 3], [135, 8, 3, 3], [143, 382, 11, 4], [144, 125, 13, 5], [145, 460, 9, 4], [145, 302, 9, 5], [146, 215, 10, 4], [149, 218, 3, 3], [149, 162, 3, 3], [149, 148, 3, 3], [149, 134, 3, 3], [149, 120, 3, 3], [149, 106, 3, 3], [149, 92, 3, 3], [149, 78, 3, 3], [149, 64, 3, 3], [149, 50, 3, 3], [149, 8, 3, 3], [152, 461, 19, 5], [152, 383, 18, 5], [152, 304, 4, 3], [154, 305, 4, 3], [154, 217, 15, 5], [155, 127, 3, 3], [155, 35, 14, 5], [156, 306, 6, 3], [156, 128, 11, 4], [160, 306, 10, 4], [163, 469, 3, 3], [163, 455, 3, 3], [163, 358, 3, 3], [163, 288, 3, 3], [163, 274, 3, 3], [163, 120, 3, 3], [163, 92, 3, 3], [165, 127, 4, 4], [167, 217, 3, 3], [167, 125, 3, 3], [167, 33, 4, 4], [168, 382, 3, 4], [168, 379, 3, 4], [168, 377, 3, 3], [168, 301, 3, 4], [168, 296, 3, 6], [168, 212, 3, 3], [168, 209, 3, 4], [168, 207, 3, 3], [168, 204, 4, 3], [168, 120, 3, 3], [169, 455, 3, 3], [169, 452, 3, 3], [169, 449, 3, 4], [169, 444, 3, 6], [169, 371, 3, 3], [169, 369, 3, 3], [169, 366, 3, 3], [169, 363, 3, 4], [169, 360, 3, 4], [169, 350, 5, 11], [169, 288, 3, 3], [169, 282, 3, 3], [169, 279, 3, 3], [169, 276, 3, 3], [169, 274, 3, 3], [169, 264, 5, 10], [169, 198, 3, 3], [169, 188, 4, 8], [169, 109, 4, 6], [169, 35, 3, 4], [170, 436, 4, 9], [170, 39, 4, 5], [171, 444, 3, 3], [171, 363, 3, 4], [171, 360, 3, 4], [171, 288, 3, 3], [171, 282, 3, 4], [171, 279, 3, 4], [171, 276, 3, 4], [171, 273, 3, 4], [171, 271, 3, 3], [171, 203, 3, 4], [171, 201, 3, 3], [171, 198, 3, 3], [171, 195, 3, 4], [171, 128, 3, 3], [171, 120, 3, 6], [171, 117, 3, 3], [172, 448, 3, 3], [172, 371, 3, 7], [172, 298, 3, 5], [172, 295, 3, 4], [172, 216, 20, 6], [172, 133, 4, 4], [172, 43, 3, 5], [173, 378, 4, 5], [173, 302, 4, 4], [173, 41, 3, 4], [174, 455, 3, 4], [174, 129, 3, 3], [174, 39, 3, 3], [175, 458, 3, 3], [175, 381, 3, 3], [175, 304, 3, 3], [175, 127, 11, 4], [175, 33, 21, 8], [176, 459, 60, 7], [176, 382, 11, 5], [176, 303, 19, 6], [184, 126, 6, 3], [185, 383, 12, 4], [188, 124, 6, 4], [190, 215, 4, 3], [190, 78, 3, 3], [190, 64, 3, 3], [190, 50, 3, 3], [190, 36, 3, 3], [190, 22, 3, 3], [190, 8, 3, 3], [192, 214, 4, 3], [192, 123, 4, 3], [193, 301, 10, 4], [194, 212, 9, 4], [194, 121, 12, 7], [194, 32, 9, 4], [195, 381, 15, 5], [201, 302, 4, 3], [201, 214, 5, 4], [201, 34, 38, 6], [203, 303, 3, 3], [204, 304, 3, 3], [204, 216, 3, 3], [204, 134, 3, 3], [204, 126, 20, 6], [204, 92, 3, 3], [204, 78, 3, 3], [204, 64, 3, 3], [204, 50, 3, 3], [204, 22, 3, 3], [204, 8, 3, 3], [205, 305, 18, 5], [205, 217, 25, 4], [208, 383, 24, 4], [218, 148, 3, 3], [218, 106, 3, 3], [218, 64, 3, 3], [218, 50, 3, 3], [218, 8, 3, 3], [221, 305, 6, 3], [222, 127, 9, 4], [225, 304, 15, 5], [229, 215, 18, 6], [229, 125, 13, 6], [230, 383, 7, 4], [232, 274, 3, 3], [232, 22, 3, 3], [232, 8, 3, 3], [234, 460, 24, 5], [235, 382, 8, 4], [237, 35, 21, 5], [238, 303, 11, 6], [240, 126, 6, 3], [241, 383, 5, 3], [244, 384, 15, 4], [244, 127, 13, 5], [245, 218, 13, 4], [247, 304, 12, 6], [255, 127, 3, 3], [256, 463, 3, 3], [256, 301, 4, 4], [256, 215, 3, 5], [256, 125, 3, 3], [256, 33, 7, 12], [257, 460, 3, 4], [257, 458, 3, 3], [257, 455, 4, 3], [257, 382, 3, 4], [257, 377, 3, 6], [257, 374, 3, 3], [257, 369, 3, 3], [257, 293, 3, 9], [257, 290, 3, 3], [257, 288, 3, 3], [257, 285, 3, 3], [257, 282, 3, 3], [257, 212, 3, 3], [257, 209, 3, 4], [257, 206, 3, 4], [257, 204, 3, 3], [257, 201, 3, 3], [257, 117, 3, 6], [258, 452, 3, 3], [258, 449, 3, 4], [258, 447, 3, 3], [258, 362, 3, 7], [258, 350, 5, 11], [258, 276, 3, 3], [258, 273, 3, 4], [258, 187, 5, 8], [258, 108, 4, 5], [259, 438, 4, 7], [259, 263, 3, 11], [260, 455, 3, 3], [260, 445, 4, 7], [260, 362, 4, 14], [260, 279, 3, 16], [260, 274, 3, 3], [260, 202, 3, 11], [260, 200, 3, 3], [260, 118, 3, 12], [261, 299, 3, 3], [261, 217, 4, 5], [261, 133, 3, 4], [261, 43, 3, 5], [262, 452, 3, 5], [262, 377, 3, 5], [262, 302, 4, 4], [262, 131, 3, 4], [262, 41, 3, 4], [263, 455, 3, 4], [263, 380, 3, 3], [263, 217, 4, 3], [263, 125, 19, 7], [263, 38, 4, 4], [264, 458, 6, 5], [264, 381, 3, 3], [264, 304, 3, 3], [265, 382, 6, 4], [265, 305, 15, 4], [265, 216, 16, 5], [265, 35, 15, 5], [268, 460, 28, 6], [269, 383, 16, 4], [273, 8, 3, 3], [278, 304, 5, 3], [278, 33, 7, 4], [279, 215, 4, 3], [280, 124, 3, 3], [281, 303, 3, 3], [281, 212, 12, 5], [281, 123, 4, 3], [282, 302, 4, 3], [283, 381, 11, 4], [283, 121, 10, 5], [283, 32, 9, 4], [284, 301, 4, 3], [286, 300, 7, 4], [287, 106, 3, 3], [287, 50, 3, 3], [287, 36, 3, 3], [287, 22, 3, 3], [287, 8, 3, 3], [290, 34, 44, 6], [291, 302, 6, 5], [291, 214, 3, 3], [291, 124, 3, 3], [292, 382, 5, 3], [292, 215, 7, 5], [292, 125, 3, 3], [293, 126, 3, 3], [294, 460, 3, 3], [294, 127, 32, 5], [295, 460, 29, 4], [295, 383, 13, 4], [295, 305, 4, 3], [297, 305, 19, 4], [297, 217, 29, 4], [301, 120, 3, 3], [301, 92, 3, 3], [301, 64, 3, 3], [301, 8, 3, 3], [306, 383, 13, 4], [314, 305, 11, 4], [315, 469, 3, 3], [315, 441, 3, 3], [315, 162, 3, 3], [315, 120, 3, 3], [315, 78, 3, 3], [317, 383, 5, 4], [320, 382, 7, 4], [322, 460, 5, 3], [323, 303, 8, 4], [324, 216, 3, 3], [324, 126, 3, 3], [325, 461, 19, 4], [325, 383, 3, 3], [325, 215, 4, 3], [325, 125, 4, 3], [326, 382, 21, 6], [327, 216, 4, 3], [327, 125, 19, 6], [329, 469, 3, 3], [329, 305, 7, 4], [329, 217, 5, 3], [332, 217, 14, 5], [332, 35, 13, 5], [334, 306, 12, 4], [342, 462, 3, 3], [343, 463, 4, 4], [343, 34, 3, 3], [344, 302, 3, 3], [344, 33, 4, 3], [345, 460, 3, 4], [345, 455, 3, 6], [345, 380, 3, 3], [345, 377, 3, 3], [345, 369, 3, 9], [345, 299, 3, 3], [345, 296, 3, 3], [345, 293, 3, 4], [345, 290, 3, 4], [345, 285, 3, 6], [345, 282, 3, 3], [345, 212, 3, 3], [345, 209, 3, 3], [345, 206, 3, 4], [345, 201, 3, 6], [345, 198, 3, 3], [345, 115, 3, 5], [345, 112, 3, 3], [346, 447, 3, 3], [346, 439, 4, 8], [346, 352, 4, 9], [346, 274, 4, 3], [346, 265, 4, 9], [346, 187, 4, 6], [346, 107, 3, 6], [346, 34, 5, 8], [347, 192, 3, 3], [348, 447, 3, 4], [348, 374, 3, 3], [348, 371, 3, 3], [348, 368, 3, 4], [348, 366, 3, 3], [348, 363, 3, 3], [348, 299, 3, 3], [348, 296, 3, 3], [348, 293, 3, 3], [348, 290, 3, 3], [348, 287, 3, 4], [348, 285, 3, 3], [348, 282, 3, 3], [348, 279, 3, 3], [348, 215, 3, 3], [348, 212, 3, 3], [348, 209, 3, 4], [348, 206, 3, 4], [348, 204, 3, 3], [348, 201, 3, 3], [348, 198, 3, 3], [348, 128, 3, 4], [348, 125, 3, 4], [348, 123, 3, 3], [348, 120, 3, 3], [348, 117, 3, 3], [348, 43, 4, 5], [348, 41, 3, 4], [349, 452, 3, 3], [349, 449, 3, 4], [349, 376, 3, 4], [349, 301, 5, 6], [349, 217, 5, 5], [349, 132, 3, 5], [350, 455, 3, 3], [350, 379, 3, 3], [350, 131, 3, 3], [350, 38, 4, 6], [351, 457, 3, 4], [351, 439, 8, 10], [351, 380, 3, 3], [351, 349, 6, 11], [351, 271, 8, 10], [351, 193, 8, 9], [351, 128, 3, 4], [351, 103, 8, 9], [351, 24, 13, 10], [352, 466, 3, 3], [352, 463, 3, 3], [352, 460, 3, 3], [352, 385, 3, 4], [352, 301, 3, 4], [352, 216, 3, 3], [352, 204, 3, 3], [352, 127, 3, 3], [352, 124, 3, 3], [352, 120, 3, 3], [352, 36, 3, 3], [353, 465, 22, 7], [353, 388, 14, 4], [353, 294, 8, 5], [353, 201, 4, 3], [353, 113, 3, 4], [354, 112, 3, 3], [355, 350, 4, 6], [355, 193, 9, 10], [355, 103, 12, 10], [357, 271, 6, 10], [358, 439, 6, 10], [358, 349, 6, 10], [359, 292, 7, 4], [360, 444, 2, 3], [362, 196, 4, 3], [362, 27, 6, 3], [364, 289, 6, 5], [364, 188, 14, 10], [365, 382, 13, 8], [365, 102, 5, 5], [366, 26, 4, 3], [368, 286, 7, 5], [368, 100, 4, 4], [368, 24, 11, 4], [370, 99, 3, 3], [370, 64, 3, 3], [370, 50, 3, 3], [371, 98, 6, 3], [373, 464, 7, 3], [373, 285, 8, 7], [375, 99, 3, 3], [376, 383, 4, 3], [376, 190, 3, 3], [376, 100, 3, 3], [377, 191, 3, 3], [377, 101, 3, 3], [377, 26, 9, 5], [378, 465, 6, 5], [378, 384, 3, 3], [378, 192, 3, 4], [378, 103, 3, 3], [379, 385, 5, 5], [379, 290, 3, 3], [379, 194, 3, 4], [379, 104, 3, 4], [380, 291, 7, 7], [380, 196, 3, 3], [380, 106, 3, 4], [381, 197, 3, 3], [381, 108, 3, 3], [382, 466, 53, 7], [382, 388, 52, 5], [382, 198, 3, 3], [382, 109, 3, 3], [383, 199, 4, 4], [383, 110, 3, 3], [384, 427, 3, 3], [384, 148, 3, 3], [384, 111, 3, 3], [384, 78, 3, 3], [384, 29, 21, 4], [384, 8, 3, 3], [385, 295, 27, 5], [385, 200, 34, 5], [385, 111, 27, 5], [403, 29, 13, 4], [410, 294, 23, 6], [410, 111, 6, 4], [412, 427, 3, 3], [414, 111, 4, 3], [414, 30, 19, 4], [416, 112, 9, 4], [417, 201, 4, 3], [419, 201, 14, 4], [423, 113, 7, 4], [428, 113, 5, 4], [431, 293, 3, 3], [431, 291, 3, 3], [431, 201, 3, 3], [431, 198, 3, 3], [431, 195, 3, 3], [431, 103, 3, 9], [432, 385, 3, 6], [432, 286, 3, 5], [432, 283, 3, 3], [432, 190, 3, 3], [432, 187, 3, 3], [432, 185, 3, 3], [432, 91, 4, 5], [433, 461, 3, 4], [433, 458, 3, 3], [433, 455, 3, 3], [433, 379, 3, 4], [433, 374, 3, 6], [433, 371, 3, 4], [433, 274, 3, 3], [433, 271, 3, 3], [433, 178, 3, 5], [433, 95, 3, 3], [434, 452, 3, 3], [434, 449, 3, 3], [434, 446, 3, 4], [434, 444, 3, 3], [434, 441, 3, 3], [434, 436, 3, 3], [434, 430, 4, 8], [434, 366, 3, 3], [434, 363, 3, 3], [434, 360, 3, 3], [434, 357, 3, 3], [434, 344, 4, 8], [434, 265, 3, 3], [434, 258, 4, 7], [434, 187, 3, 3], [434, 184, 3, 3], [434, 182, 3, 3], [434, 131, 3, 3], [434, 128, 3, 3], [434, 125, 3, 4], [434, 122, 3, 4], [434, 120, 3, 3], [434, 117, 3, 4], [434, 106, 3, 3], [434, 47, 3, 3], [434, 44, 3, 4], [434, 42, 3, 3], [434, 39, 3, 3], [434, 36, 3, 4], [435, 190, 3, 3], [435, 138, 3, 3], [435, 134, 3, 3], [435, 55, 3, 3], [436, 455, 4, 3], [436, 441, 3, 12], [436, 371, 3, 3], [436, 366, 3, 3], [436, 363, 3, 3], [436, 357, 3, 6], [436, 354, 3, 4], [436, 287, 3, 4], [436, 284, 3, 3], [436, 281, 3, 4], [436, 279, 3, 3], [436, 273, 3, 6], [436, 270, 3, 4], [436, 206, 3, 4], [436, 203, 3, 4], [436, 201, 3, 3], [436, 147, 4, 6], [436, 59, 3, 5], [437, 465, 25, 7], [437, 460, 3, 9], [437, 458, 3, 3], [437, 390, 4, 5], [437, 385, 3, 6], [437, 382, 3, 4], [437, 380, 3, 3], [437, 307, 4, 9], [437, 301, 3, 3], [437, 223, 3, 8], [437, 56, 3, 3], [438, 134, 4, 3], [438, 50, 3, 3], [439, 388, 10, 4], [439, 297, 3, 8], [439, 217, 3, 4], [439, 206, 3, 12], [439, 204, 3, 3], [439, 120, 3, 15], [439, 36, 3, 11], [439, 8, 3, 3], [440, 295, 6, 4], [440, 202, 3, 3], [440, 113, 4, 5], [440, 32, 3, 3], [441, 197, 11, 7], [441, 31, 3, 3], [442, 30, 3, 3], [443, 110, 4, 4], [443, 29, 3, 3], [444, 293, 8, 4], [444, 27, 10, 5], [445, 109, 4, 3], [447, 382, 24, 9], [447, 104, 10, 7], [450, 292, 4, 3], [450, 196, 4, 3], [452, 290, 5, 4], [452, 193, 6, 5], [452, 24, 19, 6], [453, 64, 3, 3], [453, 50, 3, 3], [455, 285, 13, 7], [455, 102, 3, 4], [456, 192, 3, 3], [456, 101, 3, 3], [457, 190, 4, 4], [457, 100, 3, 3], [458, 99, 3, 3], [459, 188, 7, 4], [459, 98, 6, 3], [460, 463, 8, 4], [463, 99, 3, 3], [464, 190, 3, 3], [464, 100, 3, 3], [465, 191, 3, 3], [465, 101, 3, 3], [466, 465, 55, 8], [466, 288, 5, 7], [466, 192, 3, 3], [466, 102, 3, 4], [467, 193, 3, 5], [467, 162, 3, 3], [467, 104, 4, 5], [468, 196, 3, 3], [469, 387, 3, 3], [469, 293, 3, 3], [469, 197, 3, 3], [469, 108, 3, 3], [469, 28, 5, 3], [470, 388, 6, 4], [470, 294, 3, 3], [470, 198, 5, 5], [470, 109, 3, 3], [471, 295, 7, 4], [471, 110, 3, 3], [472, 111, 3, 3], [472, 29, 25, 4], [473, 200, 33, 5], [473, 112, 6, 3], [474, 388, 46, 6], [476, 295, 29, 5], [477, 111, 28, 5], [495, 29, 6, 3], [499, 30, 19, 5], [503, 296, 15, 4], [503, 113, 4, 3], [504, 201, 15, 5], [505, 113, 10, 4], [513, 113, 5, 4], [516, 296, 3, 3], [516, 112, 3, 3], [516, 30, 3, 3], [517, 293, 3, 3], [517, 290, 3, 3], [517, 198, 3, 3], [517, 195, 3, 4], [517, 192, 3, 4], [517, 105, 3, 5], [517, 103, 3, 3], [517, 100, 3, 4], [517, 25, 3, 5], [518, 385, 3, 5], [518, 287, 3, 3], [518, 283, 3, 3], [518, 89, 4, 6], [518, 18, 3, 3], [519, 463, 3, 3], [519, 455, 3, 9], [519, 379, 3, 4], [519, 377, 3, 3], [519, 371, 3, 6], [519, 273, 3, 4], [519, 268, 3, 6], [519, 176, 3, 6], [519, 106, 4, 3], [519, 94, 3, 4], [519, 22, 3, 3], [519, 14, 3, 6], [520, 441, 3, 3], [520, 438, 3, 3], [520, 435, 3, 4], [520, 430, 4, 7], [520, 357, 3, 3], [520, 352, 3, 3], [520, 349, 3, 3], [520, 346, 3, 3], [520, 343, 4, 5], [520, 256, 4, 7], [520, 187, 3, 3], [520, 184, 3, 3], [520, 134, 4, 3], [520, 131, 3, 3], [520, 128, 3, 4], [520, 126, 3, 3], [520, 122, 3, 4], [520, 120, 3, 3], [520, 115, 3, 4], [520, 50, 3, 3], [520, 47, 3, 4], [520, 44, 3, 4], [520, 39, 3, 6], [520, 33, 3, 3], [521, 350, 3, 3], [521, 347, 3, 4], [521, 148, 5, 7], [521, 61, 4, 5], [522, 438, 3, 20], [522, 385, 4, 5], [522, 371, 3, 4], [522, 351, 3, 21], [522, 280, 3, 3], [522, 263, 3, 18], [522, 218, 3, 3], [522, 200, 3, 12], [522, 58, 3, 4], [523, 462, 23, 10], [523, 389, 4, 7], [523, 307, 3, 11], [523, 302, 3, 3], [523, 225, 3, 9], [523, 56, 3, 3], [524, 224, 3, 3], [524, 218, 3, 3], [524, 142, 3, 3], [524, 138, 3, 3], [524, 134, 3, 3], [524, 48, 3, 6], [525, 387, 17, 5], [525, 304, 3, 3], [525, 301, 3, 3], [525, 299, 3, 3], [525, 215, 3, 3], [525, 212, 3, 3], [525, 210, 3, 3], [525, 207, 3, 3], [525, 204, 3, 3], [525, 131, 3, 3], [525, 128, 3, 3], [525, 125, 3, 4], [525, 120, 3, 6], [525, 117, 3, 3], [525, 42, 3, 3], [525, 40, 3, 3], [525, 36, 3, 4], [526, 296, 5, 3], [526, 201, 5, 4], [526, 114, 3, 4], [526, 32, 3, 3], [527, 113, 3, 3], [527, 31, 3, 3], [528, 111, 3, 4], [528, 30, 4, 3], [529, 295, 4, 3], [529, 200, 3, 3], [529, 109, 5, 4], [530, 198, 6, 4], [530, 29, 3, 3], [531, 292, 10, 5], [531, 27, 13, 4], [532, 106, 8, 5], [534, 192, 11, 8], [538, 105, 3, 3], [539, 291, 3, 3], [539, 103, 4, 4], [540, 384, 7, 5], [540, 289, 4, 4], [541, 102, 3, 3], [542, 288, 3, 3], [542, 101, 3, 3], [542, 26, 4, 3], [543, 285, 9, 5], [543, 189, 5, 5], [543, 100, 3, 3], [544, 465, 4, 3], [544, 99, 3, 3], [544, 24, 13, 6], [545, 383, 4, 3], [545, 97, 5, 4], [546, 464, 11, 5], [546, 188, 5, 3], [547, 382, 9, 6], [548, 98, 5, 5], [549, 189, 4, 4], [550, 455, 3, 3], [550, 441, 3, 3], [550, 286, 4, 4], [550, 176, 3, 3], [551, 191, 3, 3], [551, 101, 3, 3], [552, 288, 3, 4], [552, 192, 4, 4], [552, 103, 3, 3], [553, 290, 3, 3], [553, 195, 3, 3], [553, 104, 3, 4], [554, 386, 3, 3], [554, 291, 3, 4], [554, 196, 3, 3], [554, 106, 3, 4], [555, 467, 3, 3], [555, 387, 3, 3], [555, 293, 3, 3], [555, 197, 4, 5], [555, 108, 3, 3], [555, 28, 28, 6], [556, 468, 50, 5], [556, 388, 3, 3], [556, 294, 4, 4], [556, 109, 4, 4], [557, 388, 39, 6], [557, 200, 40, 6], [558, 296, 4, 3], [558, 111, 3, 3], [559, 112, 31, 4], [560, 296, 24, 4], [581, 29, 6, 3], [582, 295, 8, 4], [585, 30, 4, 3], [587, 31, 17, 4], [588, 296, 16, 5], [588, 113, 3, 3], [589, 114, 9, 4], [594, 390, 11, 3], [595, 202, 9, 4], [597, 113, 7, 4], [602, 296, 3, 3], [602, 200, 3, 4], [602, 110, 3, 5], [602, 30, 3, 3], [602, 28, 3, 3], [603, 388, 3, 4], [603, 290, 3, 5], [603, 288, 3, 3], [603, 195, 3, 4], [603, 192, 3, 4], [603, 190, 3, 3], [603, 187, 3, 3], [603, 103, 3, 3], [603, 100, 3, 3], [603, 98, 3, 3], [603, 95, 3, 3], [603, 23, 3, 3], [604, 468, 3, 3], [604, 385, 3, 3], [604, 90, 4, 19], [604, 14, 4, 9], [605, 444, 3, 21], [605, 441, 3, 3], [605, 365, 3, 16], [605, 362, 3, 4], [605, 357, 3, 6], [605, 265, 3, 14], [605, 177, 3, 6], [605, 120, 3, 3], [605, 109, 3, 3], [605, 50, 4, 3], [605, 45, 3, 5], [605, 40, 3, 5], [605, 36, 3, 4], [605, 26, 3, 6], [605, 22, 3, 5], [606, 429, 3, 8], [606, 342, 4, 9], [606, 255, 4, 8], [606, 190, 3, 3], [606, 188, 3, 3], [606, 185, 3, 4], [606, 129, 3, 11], [606, 56, 3, 7], [606, 53, 3, 3], [607, 441, 3, 3], [607, 197, 3, 3], [607, 148, 5, 8], [607, 64, 4, 6], [608, 463, 3, 3], [608, 460, 3, 3], [608, 458, 3, 3], [608, 454, 3, 4], [608, 452, 3, 3], [608, 449, 3, 4], [608, 446, 3, 4], [608, 444, 3, 3], [608, 388, 3, 3], [608, 385, 3, 3], [608, 382, 3, 3], [608, 374, 3, 3], [608, 371, 3, 4], [608, 368, 3, 3], [608, 365, 3, 4], [608, 363, 3, 3], [608, 360, 3, 3], [608, 308, 4, 9], [608, 307, 3, 3], [608, 304, 3, 3], [608, 301, 3, 4], [608, 298, 3, 4], [608, 296, 3, 3], [608, 293, 3, 3], [608, 291, 3, 3], [608, 287, 3, 4], [608, 282, 3, 6], [608, 279, 3, 3], [608, 276, 3, 3], [608, 271, 3, 3], [608, 268, 3, 3], [608, 265, 3, 3], [608, 224, 4, 9], [608, 217, 3, 4], [608, 212, 3, 3], [608, 209, 3, 4], [608, 206, 3, 4], [608, 201, 3, 3], [608, 62, 3, 3], [609, 466, 6, 5], [609, 390, 3, 4], [609, 222, 3, 3], [609, 147, 3, 4], [610, 389, 3, 3], [610, 301, 3, 6], [610, 217, 3, 4], [610, 215, 3, 3], [610, 137, 3, 3], [610, 131, 3, 6], [610, 128, 3, 4], [610, 126, 3, 3], [610, 47, 3, 4], [610, 45, 3, 3], [610, 42, 3, 3], [610, 40, 3, 3], [611, 388, 3, 3], [611, 298, 3, 3], [611, 296, 6, 3], [611, 203, 3, 5], [611, 120, 3, 3], [611, 117, 3, 4], [611, 115, 3, 3], [611, 36, 3, 3], [611, 34, 3, 3], [612, 387, 16, 5], [612, 202, 3, 3], [612, 112, 4, 5], [612, 32, 3, 3], [613, 464, 26, 8], [613, 200, 5, 4], [613, 30, 4, 4], [614, 110, 4, 3], [615, 293, 9, 5], [615, 29, 3, 3], [616, 199, 3, 3], [616, 108, 6, 4], [616, 27, 10, 4], [617, 193, 12, 8], [620, 106, 5, 4], [622, 292, 4, 3], [623, 105, 3, 3], [624, 291, 3, 3], [624, 104, 3, 3], [624, 23, 15, 6], [625, 287, 7, 6], [625, 103, 3, 3], [626, 384, 7, 5], [626, 102, 3, 3], [627, 192, 3, 3], [627, 100, 3, 4], [628, 189, 5, 5], [628, 99, 3, 3], [629, 96, 9, 6], [630, 285, 7, 4], [631, 383, 11, 6], [631, 188, 6, 3], [633, 427, 3, 3], [635, 286, 3, 3], [635, 189, 3, 3], [636, 287, 3, 3], [636, 190, 3, 3], [636, 100, 3, 4], [637, 465, 5, 4], [637, 288, 3, 3], [637, 192, 3, 3], [637, 102, 3, 3], [637, 26, 4, 3], [638, 289, 3, 4], [638, 193, 3, 4], [638, 103, 3, 4], [639, 291, 3, 3], [639, 195, 3, 4], [639, 105, 3, 4], [639, 27, 4, 3], [640, 467, 3, 3], [640, 387, 3, 3], [640, 292, 3, 3], [640, 197, 3, 3], [640, 107, 3, 4], [641, 468, 4, 3], [641, 388, 5, 4], [641, 293, 3, 4], [641, 198, 3, 3], [641, 109, 3, 3], [641, 28, 28, 5], [642, 295, 28, 6], [642, 199, 3, 3], [642, 110, 3, 3], [643, 464, 49, 9], [643, 200, 3, 3], [643, 111, 3, 3], [644, 390, 18, 4], [644, 201, 4, 3], [644, 112, 30, 4], [646, 201, 21, 4], [660, 389, 5, 3], [663, 390, 4, 3], [665, 388, 14, 4], [665, 201, 10, 3], [667, 29, 4, 3], [668, 295, 14, 5], [669, 30, 20, 5], [672, 113, 14, 5], [673, 202, 17, 5], [677, 389, 14, 4], [680, 297, 8, 4], [684, 114, 5, 3], [686, 297, 3, 3], [687, 113, 3, 3], [687, 30, 3, 3], [688, 291, 3, 7], [688, 287, 3, 4], [688, 193, 3, 9], [688, 190, 3, 3], [688, 104, 3, 7], [688, 102, 3, 3], [688, 95, 3, 3], [688, 23, 3, 8], [688, 15, 4, 8], [689, 381, 3, 8], [689, 278, 3, 10], [689, 183, 3, 5], [689, 91, 3, 6], [690, 458, 3, 3], [690, 454, 3, 4], [690, 371, 3, 5], [690, 274, 3, 3], [690, 270, 3, 4], [690, 179, 3, 4], [690, 34, 3, 3], [690, 31, 3, 3], [690, 29, 3, 3], [690, 25, 3, 3], [690, 23, 3, 3], [690, 20, 3, 3], [691, 441, 3, 3], [691, 438, 4, 3], [691, 429, 4, 10], [691, 360, 3, 3], [691, 349, 4, 3], [691, 343, 4, 7], [691, 265, 3, 3], [691, 262, 4, 3], [691, 256, 4, 7], [691, 187, 3, 3], [691, 184, 3, 3], [691, 137, 3, 3], [691, 134, 3, 3], [691, 131, 3, 3], [691, 128, 3, 4], [691, 125, 3, 4], [691, 59, 3, 3], [691, 56, 3, 3], [691, 53, 3, 3], [692, 196, 3, 3], [692, 193, 3, 3], [692, 190, 3, 3], [692, 145, 3, 3], [692, 63, 4, 5], [693, 454, 3, 4], [693, 448, 3, 5], [693, 445, 3, 3], [693, 441, 3, 3], [693, 368, 3, 8], [693, 365, 3, 3], [693, 363, 3, 3], [693, 357, 3, 3], [693, 301, 3, 3], [693, 287, 3, 4], [693, 278, 3, 7], [693, 274, 3, 3], [693, 212, 3, 3], [693, 209, 3, 3], [693, 206, 3, 4], [693, 204, 3, 3], [693, 147, 4, 8], [694, 466, 5, 4], [694, 463, 3, 3], [694, 460, 3, 3], [694, 457, 3, 3], [694, 390, 3, 4], [694, 388, 3, 3], [694, 385, 3, 3], [694, 382, 3, 3], [694, 307, 3, 9], [694, 304, 4, 4], [694, 220, 3, 11], [694, 145, 3, 4], [694, 140, 3, 3], [694, 53, 3, 5], [694, 51, 3, 3], [695, 388, 5, 4], [695, 301, 3, 3], [695, 218, 3, 3], [695, 133, 3, 3], [695, 44, 3, 3], [696, 299, 3, 3], [696, 209, 3, 3], [696, 206, 3, 4], [696, 204, 3, 3], [696, 120, 3, 3], [696, 117, 3, 4], [696, 39, 3, 3], [696, 37, 3, 3], [696, 33, 3, 4], [697, 468, 3, 3], [697, 296, 3, 3], [697, 201, 3, 4], [697, 114, 3, 3], [697, 31, 3, 4], [708, 446, 6, 7], [708, 366, 6, 5], [708, 285, 5, 4], [708, 203, 5, 4], [708, 93, 13, 31], [708, 26, 5, 16], [710, 440, 4, 6], [710, 433, 4, 7], [710, 431, 3, 4], [710, 426, 4, 6], [710, 422, 11, 31], [710, 360, 3, 3], [710, 354, 4, 7], [710, 352, 3, 3], [710, 346, 4, 6], [710, 343, 4, 4], [710, 341, 3, 3], [710, 282, 3, 3], [710, 276, 3, 3], [710, 273, 4, 4], [710, 271, 4, 3], [710, 268, 4, 3], [710, 265, 3, 3], [710, 262, 3, 4], [710, 257, 11, 32], [710, 201, 3, 3], [710, 197, 3, 5], [710, 195, 3, 3], [710, 175, 11, 32], [710, 11, 11, 31], [711, 430, 3, 3], [711, 340, 10, 31], [711, 284, 3, 3], [711, 277, 3, 3], [716, 371, 3, 3]]\n"
     ]
    },
    {
     "name": "stderr",
     "output_type": "stream",
     "text": [
      "IOPub data rate exceeded.\n",
      "The notebook server will temporarily stop sending output\n",
      "to the client in order to avoid crashing it.\n",
      "To change this limit, set the config variable\n",
      "`--NotebookApp.iopub_data_rate_limit`.\n",
      "\n",
      "Current values:\n",
      "NotebookApp.iopub_data_rate_limit=1000000.0 (bytes/sec)\n",
      "NotebookApp.rate_limit_window=3.0 (secs)\n",
      "\n"
     ]
    },
    {
     "name": "stdout",
     "output_type": "stream",
     "text": [
      "8278\n",
      "[[0, 0, 727, 480]]\n"
     ]
    }
   ],
   "source": [
    "if img is not None:\n",
    "    #images.append(img)\n",
    "    img=~img\n",
    "    ret,thresh=cv2.threshold(img,127,255,cv2.THRESH_BINARY)\n",
    "    ctrs,ret=cv2.findContours(thresh,cv2.RETR_TREE,cv2.CHAIN_APPROX_SIMPLE)\n",
    "    cnt=sorted(ctrs, key=lambda ctr: cv2.boundingRect(ctr)[0])\n",
    "    w=int(28)\n",
    "    h=int(28)\n",
    "    train_data=[]\n",
    "    print(len(cnt))\n",
    "    rects=[]\n",
    "    for c in cnt :\n",
    "        x,y,w,h= cv2.boundingRect(c)\n",
    "        rect=[x,y,w,h]\n",
    "        rects.append(rect)\n",
    "    print(rects)\n",
    "    bool_rect=[]\n",
    "    for r in rects:\n",
    "        l=[]\n",
    "        for rec in rects:\n",
    "            flag=0\n",
    "            if rec!=r:\n",
    "                if r[0]<(rec[0]+rec[2]+10) and rec[0]<(r[0]+r[2]+10) and r[1]<(rec[1]+rec[3]+10) and rec[1]<(r[1]+r[3]+10):\n",
    "                    flag=1\n",
    "                l.append(flag)\n",
    "            if rec==r:\n",
    "                l.append(0)\n",
    "        bool_rect.append(l)\n",
    "    print(bool_rect)\n",
    "    dump_rect=[]\n",
    "    for i in range(0,len(cnt)):\n",
    "        for j in range(0,len(cnt)):\n",
    "            if bool_rect[i][j]==1:\n",
    "                area1=rects[i][2]*rects[i][3]\n",
    "                area2=rects[j][2]*rects[j][3]\n",
    "                if(area1==min(area1,area2)):\n",
    "                    dump_rect.append(rects[i])\n",
    "    print(len(dump_rect)) \n",
    "    final_rect=[i for i in rects if i not in dump_rect]\n",
    "    print(final_rect)\n",
    "    for r in final_rect:\n",
    "        x=r[0]\n",
    "        y=r[1]\n",
    "        w=r[2]\n",
    "        h=r[3]\n",
    "        im_crop =thresh[y:y+h+10,x:x+w+10]\n",
    "        im_resize = cv2.resize(im_crop,(28,28))\n",
    "\n",
    "\n",
    "        im_resize=np.reshape(im_resize,(28,28,1))\n",
    "        train_data.append(im_resize)"
   ]
  },
  {
   "cell_type": "code",
   "execution_count": 53,
   "id": "8786c1d5",
   "metadata": {},
   "outputs": [
    {
     "data": {
      "text/plain": [
       "8"
      ]
     },
     "execution_count": 53,
     "metadata": {},
     "output_type": "execute_result"
    }
   ],
   "source": [
    "s=''\n",
    "for i in range(len(train_data)):\n",
    "    train_data[i]=np.array(train_data[i])\n",
    "    train_data[i]=train_data[i].reshape(1,28,28,1)\n",
    "    #result=loaded_model.predict_classes(train_data[i])\n",
    "    result=np.argmax(loaded_model.predict(train_data[i]), axis=-1)\n",
    "    if(result[0]==10):\n",
    "        s=s+'-'\n",
    "    if(result[0]==11):\n",
    "        s=s+'+'\n",
    "    if(result[0]==12):\n",
    "        s=s+'*'\n",
    "    if(result[0]==0):\n",
    "        s=s+'0'\n",
    "    if(result[0]==1):\n",
    "        s=s+'1'\n",
    "    if(result[0]==2):\n",
    "        s=s+'2'\n",
    "    if(result[0]==3):\n",
    "        s=s+'3'\n",
    "    if(result[0]==4):\n",
    "        s=s+'4'\n",
    "    if(result[0]==5):\n",
    "        s=s+'5'\n",
    "    if(result[0]==6):\n",
    "        s=s+'6'\n",
    "    if(result[0]==7):\n",
    "        s=s+'7'\n",
    "    if(result[0]==8):\n",
    "        s=s+'8'\n",
    "    if(result[0]==9):\n",
    "        s=s+'9'\n",
    "\n",
    "        \n",
    "eval(s)"
   ]
  }
 ],
 "metadata": {
  "kernelspec": {
   "display_name": "Python 3",
   "language": "python",
   "name": "python3"
  },
  "language_info": {
   "codemirror_mode": {
    "name": "ipython",
    "version": 3
   },
   "file_extension": ".py",
   "mimetype": "text/x-python",
   "name": "python",
   "nbconvert_exporter": "python",
   "pygments_lexer": "ipython3",
   "version": "3.8.8"
  }
 },
 "nbformat": 4,
 "nbformat_minor": 5
}
